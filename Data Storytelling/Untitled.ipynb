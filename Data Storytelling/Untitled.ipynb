{
 "cells": [
  {
   "cell_type": "markdown",
   "id": "8bf72e1a",
   "metadata": {},
   "source": [
    "# Exploring Political Insider Trading in the United States of America"
   ]
  },
  {
   "cell_type": "markdown",
   "id": "e6ce0e1f",
   "metadata": {},
   "source": [
    "Insider trading is the act of buying or selling a public company's stock or other securities, in breach of a fiduciary duty or other relationship of trust and confidence, on the basis of material, nonpublic information about the security.[<sup>1</sup>](#ref-1) Despite the United States having laws intended to prohibit insider trading, members of congress are no strangers to insider trading and are permitted trade provided such trading does not breach a fiduciary duty.[<sup>2</sup>](#ref-2) We will explore a dataset of public trades made by politicians in the United States to gather some insight into their market activity."
   ]
  },
  {
   "cell_type": "code",
   "execution_count": 1,
   "id": "fe79000c",
   "metadata": {},
   "outputs": [],
   "source": [
    "import numpy as np\n",
    "import pandas as pd\n",
    "import matplotlib.pyplot as plt\n",
    "import seaborn as sns\n",
    "import glob\n",
    "import os\n",
    "\n",
    "sns.set()\n",
    "pd.set_option('display.max_columns',50)"
   ]
  },
  {
   "cell_type": "code",
   "execution_count": 2,
   "id": "4dc271c9",
   "metadata": {},
   "outputs": [],
   "source": [
    "path = os.getcwd() + '\\\\raw_data\\\\'\n",
    "all_files = glob.glob(path + '*.csv')\n",
    "\n",
    "def clean_file(df):\n",
    "    return df[~df['Date'].str.contains('Downloaded from',na=False)]\n",
    "\n",
    "df_list = [clean_file(pd.read_csv(filename)) for filename in all_files]\n",
    "\n",
    "combined_df = pd.concat(df_list, ignore_index = True)"
   ]
  },
  {
   "cell_type": "code",
   "execution_count": 3,
   "id": "eb8cddaf",
   "metadata": {},
   "outputs": [
    {
     "data": {
      "text/html": [
       "<div>\n",
       "<style scoped>\n",
       "    .dataframe tbody tr th:only-of-type {\n",
       "        vertical-align: middle;\n",
       "    }\n",
       "\n",
       "    .dataframe tbody tr th {\n",
       "        vertical-align: top;\n",
       "    }\n",
       "\n",
       "    .dataframe thead th {\n",
       "        text-align: right;\n",
       "    }\n",
       "</style>\n",
       "<table border=\"1\" class=\"dataframe\">\n",
       "  <thead>\n",
       "    <tr style=\"text-align: right;\">\n",
       "      <th></th>\n",
       "      <th>Date</th>\n",
       "      <th>Politician</th>\n",
       "      <th>Last Name</th>\n",
       "      <th>Chamber</th>\n",
       "      <th>Symbol</th>\n",
       "      <th>Name</th>\n",
       "      <th>Trans Total&lt;sup&gt;*&lt;/sup&gt;</th>\n",
       "      <th>Trans</th>\n",
       "      <th>Notes</th>\n",
       "    </tr>\n",
       "  </thead>\n",
       "  <tbody>\n",
       "    <tr>\n",
       "      <th>0</th>\n",
       "      <td>1/30/2019</td>\n",
       "      <td>Tomasz</td>\n",
       "      <td>Malinowski</td>\n",
       "      <td>US Congressman</td>\n",
       "      <td>EQIX</td>\n",
       "      <td>Equinix Inc</td>\n",
       "      <td>8000.0</td>\n",
       "      <td>Buy</td>\n",
       "      <td>Traded $1,001 to $15,000</td>\n",
       "    </tr>\n",
       "    <tr>\n",
       "      <th>1</th>\n",
       "      <td>1/29/2019</td>\n",
       "      <td>Thomas</td>\n",
       "      <td>Suozzi</td>\n",
       "      <td>US Congressman</td>\n",
       "      <td>WGO</td>\n",
       "      <td>Winnebago Indu</td>\n",
       "      <td>32500.0</td>\n",
       "      <td>Sell</td>\n",
       "      <td>Traded $15,001 to $50,000 .</td>\n",
       "    </tr>\n",
       "    <tr>\n",
       "      <th>2</th>\n",
       "      <td>1/29/2019</td>\n",
       "      <td>Thomas</td>\n",
       "      <td>Suozzi</td>\n",
       "      <td>US Congressman</td>\n",
       "      <td>AAPL</td>\n",
       "      <td>Apple Inc</td>\n",
       "      <td>32500.0</td>\n",
       "      <td>Buy</td>\n",
       "      <td>Traded $15,001 to $50,000 .</td>\n",
       "    </tr>\n",
       "    <tr>\n",
       "      <th>3</th>\n",
       "      <td>1/29/2019</td>\n",
       "      <td>Thomas</td>\n",
       "      <td>Suozzi</td>\n",
       "      <td>US Congressman</td>\n",
       "      <td>CAT</td>\n",
       "      <td>Caterpillar In</td>\n",
       "      <td>32500.0</td>\n",
       "      <td>Buy</td>\n",
       "      <td>Traded $15,001 to $50,000</td>\n",
       "    </tr>\n",
       "    <tr>\n",
       "      <th>4</th>\n",
       "      <td>1/29/2019</td>\n",
       "      <td>Thomas</td>\n",
       "      <td>Suozzi</td>\n",
       "      <td>US Congressman</td>\n",
       "      <td>AMD</td>\n",
       "      <td>Adv Micro Devi</td>\n",
       "      <td>32500.0</td>\n",
       "      <td>Buy</td>\n",
       "      <td>Traded $15,001 to $50,000</td>\n",
       "    </tr>\n",
       "  </tbody>\n",
       "</table>\n",
       "</div>"
      ],
      "text/plain": [
       "        Date Politician   Last Name         Chamber Symbol            Name  \\\n",
       "0  1/30/2019     Tomasz  Malinowski  US Congressman   EQIX     Equinix Inc   \n",
       "1  1/29/2019     Thomas      Suozzi  US Congressman    WGO  Winnebago Indu   \n",
       "2  1/29/2019     Thomas      Suozzi  US Congressman   AAPL       Apple Inc   \n",
       "3  1/29/2019     Thomas      Suozzi  US Congressman    CAT  Caterpillar In   \n",
       "4  1/29/2019     Thomas      Suozzi  US Congressman    AMD  Adv Micro Devi   \n",
       "\n",
       "   Trans Total<sup>*</sup> Trans                        Notes  \n",
       "0                   8000.0   Buy    Traded $1,001 to $15,000   \n",
       "1                  32500.0  Sell  Traded $15,001 to $50,000 .  \n",
       "2                  32500.0   Buy  Traded $15,001 to $50,000 .  \n",
       "3                  32500.0   Buy   Traded $15,001 to $50,000   \n",
       "4                  32500.0   Buy   Traded $15,001 to $50,000   "
      ]
     },
     "execution_count": 3,
     "metadata": {},
     "output_type": "execute_result"
    }
   ],
   "source": [
    "combined_df.head()"
   ]
  },
  {
   "cell_type": "code",
   "execution_count": 4,
   "id": "e445ce8e",
   "metadata": {},
   "outputs": [],
   "source": [
    "combined_df.rename(columns = {'Trans Total<sup>*</sup>':'Trans Total'}, inplace = True)"
   ]
  },
  {
   "cell_type": "code",
   "execution_count": 5,
   "id": "56d8f162",
   "metadata": {},
   "outputs": [],
   "source": [
    "combined_df['Trader Type'] = combined_df['Notes'].apply(lambda x: 'Spouse' if 'Spouse' in str(x) \n",
    "                                                        else ('Child' if 'Child' in str(x) \n",
    "                                                              else 'Person'))"
   ]
  },
  {
   "cell_type": "code",
   "execution_count": null,
   "id": "a83768a2",
   "metadata": {},
   "outputs": [],
   "source": []
  },
  {
   "cell_type": "markdown",
   "id": "497cd854",
   "metadata": {},
   "source": [
    "# References"
   ]
  },
  {
   "cell_type": "markdown",
   "id": "c9423e73",
   "metadata": {},
   "source": [
    "1. <a id=\"ref-1\"></a> Securities and Exchange Commission. (n.d.). Insider trading. Investor.gov. Retrieved [insert the date you accessed the site], from https://www.investor.gov/introduction-investing/investing-basics/glossary/insider-trading\n",
    "\n",
    "\n",
    "2. <a id=\"ref-2\"></a> [Hanousek, J., Jo, H., Pantzalis, C., & Park, J. C. (2022). A Dilemma of Self-interest vs. Ethical Responsibilities in Political Insider Trading. *Journal Title*, volume(issue), pages. https://doi.org/10.1007/s10551-022-05265-0](https://doi.org/10.1007/s10551-022-05265-0)"
   ]
  }
 ],
 "metadata": {
  "kernelspec": {
   "display_name": "Python 3 (ipykernel)",
   "language": "python",
   "name": "python3"
  },
  "language_info": {
   "codemirror_mode": {
    "name": "ipython",
    "version": 3
   },
   "file_extension": ".py",
   "mimetype": "text/x-python",
   "name": "python",
   "nbconvert_exporter": "python",
   "pygments_lexer": "ipython3",
   "version": "3.10.9"
  }
 },
 "nbformat": 4,
 "nbformat_minor": 5
}
